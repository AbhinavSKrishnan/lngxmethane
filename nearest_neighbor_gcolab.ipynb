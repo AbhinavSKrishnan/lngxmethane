{
  "nbformat": 4,
  "nbformat_minor": 0,
  "metadata": {
    "colab": {
      "provenance": [],
      "authorship_tag": "ABX9TyOtPBpgo78taO7uNgmaqYkX",
      "include_colab_link": true
    },
    "kernelspec": {
      "name": "python3",
      "display_name": "Python 3"
    },
    "language_info": {
      "name": "python"
    }
  },
  "cells": [
    {
      "cell_type": "markdown",
      "metadata": {
        "id": "view-in-github",
        "colab_type": "text"
      },
      "source": [
        "<a href=\"https://colab.research.google.com/github/AbhinavSKrishnan/lngxmethane/blob/main/nearest_neighbor_gcolab.ipynb\" target=\"_parent\"><img src=\"https://colab.research.google.com/assets/colab-badge.svg\" alt=\"Open In Colab\"/></a>"
      ]
    },
    {
      "cell_type": "code",
      "execution_count": 2,
      "metadata": {
        "id": "mB_Ziy2DV4lW"
      },
      "outputs": [],
      "source": [
        "# Load Libraries\n",
        "import pandas as pd\n",
        "import geopandas as gp\n",
        "import matplotlib.pyplot as plt"
      ]
    },
    {
      "cell_type": "code",
      "source": [
        "# Load Datasets\n",
        "\n",
        "in_cm = pd.read_csv('cm_plumes_gulf.csv')\n",
        "in_gfw = pd.read_csv('gfw_infra_gulf.csv')\n",
        "in_gfw_limited = pd.read_csv('gfw_infra_gulf_limited.csv')\n",
        "in_gem = pd.read_csv('gem_infra_gulf.csv')\n",
        "in_ogim = pd.read_csv('ogim_infra_gulf.csv')"
      ],
      "metadata": {
        "id": "aM_XHTcqWXzi"
      },
      "execution_count": 3,
      "outputs": []
    },
    {
      "cell_type": "code",
      "source": [
        "# Remove unnecessary Latitude and Longitude columns\n",
        "clean_gem = in_gem.drop(columns = ['Latitude_2', 'Longitude_2'])\n",
        "clean_ogim = in_ogim.drop(columns = ['Latitude_2', 'Longitude_2'])"
      ],
      "metadata": {
        "id": "qmPUdRXl5NLe"
      },
      "execution_count": 12,
      "outputs": []
    },
    {
      "cell_type": "code",
      "source": [
        "# Convert all datasets to GeoDataFrames\n",
        "gdf_cm = gp.GeoDataFrame(in_cm, geometry = gp.points_from_xy(in_cm.plume_longitude, in_cm.plume_latitude), crs=\"EPSG:4326\")\n",
        "\n",
        "gdf_gfw = gp.GeoDataFrame(in_gfw, geometry = gp.points_from_xy(in_gfw.lon, in_gfw.lat), crs=\"EPSG:4326\")\n",
        "gdf_gfw_lim = gp.GeoDataFrame(in_gfw_limited, geometry = gp.points_from_xy(in_gfw_limited.lon, in_gfw_limited.lat), crs=\"EPSG:4326\")\n",
        "\n",
        "gdf_gem = gp.GeoDataFrame(clean_gem, geometry = gp.points_from_xy(clean_gem.LONGITUDE, clean_gem.LONGITUDE), crs=\"EPSG:4326\")\n",
        "\n",
        "gdf_ogim = gp.GeoDataFrame(clean_ogim, geometry = gp.points_from_xy(clean_ogim.LONGITUDE, clean_ogim.LONGITUDE), crs=\"EPSG:4326\")"
      ],
      "metadata": {
        "id": "gftlNaBfWyWb"
      },
      "execution_count": 13,
      "outputs": []
    },
    {
      "cell_type": "code",
      "source": [
        "# Join GeoDataFrames by nearest point\n",
        "#join_cm_gfw = gp.sjoin_nearest(gdf_cm, gdf_gfw, how = 'inner', distance_col = 'distance')\n",
        "join_cm_gfw_lim = gp.sjoin_nearest(gdf_cm, gdf_gfw_lim, how = 'inner', distance_col = 'distance')"
      ],
      "metadata": {
        "colab": {
          "base_uri": "https://localhost:8080/"
        },
        "id": "eBG5-oAHWlLy",
        "outputId": "c6fa3bf8-2774-4216-8c89-8e2edaa99a00"
      },
      "execution_count": 14,
      "outputs": [
        {
          "output_type": "stream",
          "name": "stderr",
          "text": [
            "/usr/local/lib/python3.10/dist-packages/geopandas/array.py:364: UserWarning: Geometry is in a geographic CRS. Results from 'sjoin_nearest' are likely incorrect. Use 'GeoSeries.to_crs()' to re-project geometries to a projected CRS before this operation.\n",
            "\n",
            "  warnings.warn(\n"
          ]
        }
      ]
    },
    {
      "cell_type": "code",
      "source": [
        "join_cm_gem = gp.sjoin_nearest(gdf_cm, gdf_gem, how = 'inner', distance_col = 'distance')\n",
        "join_gem_cm = gp.sjoin_nearest(gdf_gem, gdf_cm, how = 'inner', distance_col = 'distance')"
      ],
      "metadata": {
        "colab": {
          "base_uri": "https://localhost:8080/"
        },
        "id": "v2KDzeKhWnEt",
        "outputId": "27b69071-f658-4b28-f1c8-9d9b2a92b2d1"
      },
      "execution_count": 18,
      "outputs": [
        {
          "output_type": "stream",
          "name": "stderr",
          "text": [
            "/usr/local/lib/python3.10/dist-packages/geopandas/array.py:364: UserWarning: Geometry is in a geographic CRS. Results from 'sjoin_nearest' are likely incorrect. Use 'GeoSeries.to_crs()' to re-project geometries to a projected CRS before this operation.\n",
            "\n",
            "  warnings.warn(\n",
            "/usr/local/lib/python3.10/dist-packages/geopandas/array.py:364: UserWarning: Geometry is in a geographic CRS. Results from 'sjoin_nearest' are likely incorrect. Use 'GeoSeries.to_crs()' to re-project geometries to a projected CRS before this operation.\n",
            "\n",
            "  warnings.warn(\n"
          ]
        }
      ]
    },
    {
      "cell_type": "code",
      "source": [
        "join_cm_ogim = gp.sjoin_nearest(gdf_cm, gdf_ogim, how = 'inner', distance_col = 'distance')"
      ],
      "metadata": {
        "colab": {
          "base_uri": "https://localhost:8080/"
        },
        "id": "YqCsqb6fWonf",
        "outputId": "d0e5dbaa-7b33-4a4c-e79a-cbfbc0daf26e"
      },
      "execution_count": 16,
      "outputs": [
        {
          "output_type": "stream",
          "name": "stderr",
          "text": [
            "/usr/local/lib/python3.10/dist-packages/geopandas/array.py:364: UserWarning: Geometry is in a geographic CRS. Results from 'sjoin_nearest' are likely incorrect. Use 'GeoSeries.to_crs()' to re-project geometries to a projected CRS before this operation.\n",
            "\n",
            "  warnings.warn(\n"
          ]
        }
      ]
    },
    {
      "cell_type": "code",
      "source": [
        "join_cm_gfw_lim.to_csv(\"nearest_gfw.csv\")\n",
        "join_cm_gem.to_csv(\"nearest_gem.csv\")\n",
        "join_cm_ogim.to_csv(\"nearest_ogim.csv\")\n",
        "\n",
        "join_gem_cm.to_csv(\"nearest_gem_1.csv\")"
      ],
      "metadata": {
        "id": "d-RzUkQMWpmz"
      },
      "execution_count": 19,
      "outputs": []
    }
  ]
}